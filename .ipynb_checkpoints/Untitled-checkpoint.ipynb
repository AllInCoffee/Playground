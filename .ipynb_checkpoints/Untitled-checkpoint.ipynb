{
 "cells": [
  {
   "cell_type": "code",
   "execution_count": null,
   "id": "61e8b26e-b5cb-49d2-93b1-5e0ebf817920",
   "metadata": {},
   "outputs": [],
   "source": []
  },
  {
   "cell_type": "markdown",
   "id": "f7429981-9d8c-4c61-bcb5-e2f92d37e78f",
   "metadata": {},
   "source": [
    "Modeling bistability based on characteristic function from “Integrated Coherent Ising Machines Based on Self-Phase Modulation in Microring Resonators” (2020) Appendix A.\n",
    "\n",
    "$\\dot{z} = - [\\kappa_{T}/2 + i (\\Delta + \\chi |z|^2)]z - \\sqrt{\\kappa}u$\n",
    "\n",
    "with input flux $I = |u|^2$ (u, drive amplitude), $n:=|z|^2$ (z, complex amplitude of Kerr resonator)\n",
    "\n",
    "$0 = - [\\kappa_{T}/2 + i (\\Delta + \\chi |z|^2)]z - \\sqrt{\\kappa}u$\n",
    "    \n",
    "$\\kappa I(n)=\\left[ \\kappa_{T}^2/4 + (\\Delta + \\chi n)^2\\right]n $\n",
    "\n",
    "$\\kappa I(n)= \\chi ^2 n^3 + 2 \\Delta \\chi n^2 + (\\kappa_{T}^2/4+\\Delta ^2)n $\n",
    "\n",
    "$I(n)= an^3 + bn^2 + cn $"
   ]
  },
  {
   "cell_type": "markdown",
   "id": "e4bb00ef-b6ca-4389-9cdc-decdae0c8f8e",
   "metadata": {},
   "source": [
    "Modeling bistability based on characteristic function from “Integrated Coherent Ising Machines Based on Self-Phase Modulation in Microring Resonators” (2020) Appendix B.\n",
    "![title](pics/tunable_amplifier_with_self-feedback.png)\n",
    "- Open Loop Model:\n",
    "\n",
    "$\\dot{z} = - [\\kappa_{T}/2 + i (\\Delta + \\chi |z|^2)]z - \\sqrt{\\kappa /2}(u+i\\tilde{u})$ \n",
    "\n",
    "$\\dot{y} = - [\\kappa_{T}/2 + i (\\Delta + \\chi |y|^2)]y - \\sqrt{\\kappa /2}(iu+\\tilde{u})$\n",
    "\n",
    " - supermode expression:\n",
    "\n",
    "$\\dot{s} = - [\\kappa_{T}/2 + i\\Delta + i\\chi /2  (|s|^2 + 2|\\tilde{s}|^2)]s + i\\chi\\tilde{s}^2s^*/2- \\sqrt{\\kappa} u$\n",
    "\n",
    "$\\dot{\\tilde{s}} = - [\\kappa_{T}/2 + i\\Delta + i\\chi /2  (2|s|^2 + |\\tilde{s}|^2)]\\tilde{s} + i\\chi s^2\\tilde{s}^*/2- \\sqrt{\\kappa} \\tilde{u}$ \n"
   ]
  },
  {
   "cell_type": "markdown",
   "id": "173afecc-c5ff-4cb0-a9ea-1858d4cdadf4",
   "metadata": {},
   "source": [
    "\\begin{equation}\n",
    "\\begin{split}\n",
    "\\dot{z} &= - [\\kappa_{T}/2 + i (\\Delta + \\chi |z|^2)]z - \\sqrt{\\kappa /2}(u+i\\tilde{u}) \\\\\n",
    "0 &= - [\\kappa_{T}/2 + i (\\Delta + \\chi |z|^2)]z - \\sqrt{\\kappa /2}(u+i\\tilde{u})\\\\\n",
    "\\sqrt{\\kappa /2}(u+i\\tilde{u}) &=- [\\kappa_{T}/2 + i (\\Delta + \\chi |z|^2)]z\\\\\n",
    "\\kappa /2 (u^2 + \\tilde{u}^2) &= \\left[ \\kappa_{T}^2/4 + (\\Delta + \\chi n_z)^2\\right]n_z\n",
    "\\end{split}\n",
    "\\end{equation}"
   ]
  },
  {
   "cell_type": "code",
   "execution_count": null,
   "id": "47c3188d-4d97-4294-82f2-00eab12aba56",
   "metadata": {},
   "outputs": [],
   "source": []
  }
 ],
 "metadata": {
  "kernelspec": {
   "display_name": "Python 3 (ipykernel)",
   "language": "python",
   "name": "python3"
  },
  "language_info": {
   "codemirror_mode": {
    "name": "ipython",
    "version": 3
   },
   "file_extension": ".py",
   "mimetype": "text/x-python",
   "name": "python",
   "nbconvert_exporter": "python",
   "pygments_lexer": "ipython3",
   "version": "3.11.9"
  }
 },
 "nbformat": 4,
 "nbformat_minor": 5
}
