{
 "cells": [
  {
   "cell_type": "markdown",
   "id": "f7429981-9d8c-4c61-bcb5-e2f92d37e78f",
   "metadata": {},
   "source": [
    "Modeling bistability based on characteristic function from “Integrated Coherent Ising Machines Based on Self-Phase Modulation in Microring Resonators” (2020) Appendix A.\n",
    "\n",
    "$\\dot{z} = - [\\kappa_{T}/2 + i (\\Delta + \\chi |z|^2)]z - \\sqrt{\\kappa}u$\n",
    "\n",
    "with input flux $I = |u|^2$ (u, drive amplitude), $n:=|z|^2$ (z, complex amplitude of Kerr resonator)\n",
    "\n",
    "$0 = - [\\kappa_{T}/2 + i (\\Delta + \\chi |z|^2)]z - \\sqrt{\\kappa}u$\n",
    "    \n",
    "$\\kappa I(n)=\\left[ \\kappa_{T}^2/4 + (\\Delta + \\chi n)^2\\right]n $\n",
    "\n",
    "$\\kappa I(n)= \\chi ^2 n^3 + 2 \\Delta \\chi n^2 + (\\kappa_{T}^2/4+\\Delta ^2)n $\n",
    "\n",
    "$I(n)= an^3 + bn^2 + cn $"
   ]
  },
  {
   "cell_type": "markdown",
   "id": "e4bb00ef-b6ca-4389-9cdc-decdae0c8f8e",
   "metadata": {},
   "source": [
    "Modeling bistability based on characteristic function from “Integrated Coherent Ising Machines Based on Self-Phase Modulation in Microring Resonators” (2020) Appendix B.\n",
    "![title](pics/tunable_amplifier_with_self-feedback.png)\n",
    "- Open Loop Model:\n",
    "\n",
    "$\\dot{z} = - [\\kappa_{T}/2 + i (\\Delta + \\chi |z|^2)]z - \\sqrt{\\kappa /2}(u+i\\tilde{u})$ \n",
    "\n",
    "$\\dot{y} = - [\\kappa_{T}/2 + i (\\Delta + \\chi |y|^2)]y - \\sqrt{\\kappa /2}(iu+\\tilde{u})$\n",
    "\n",
    "    - supermode expression:\n",
    "$$\n",
    "\\dot{s} = - [\\kappa_{T}/2 + i\\Delta + i\\chi /2  (|s|^2 + 2|\\tilde{s}|^2)]s + i\\chi\\tilde{s}^2s^*/2- \\sqrt{\\kappa} u\n",
    "$$\n",
    "$$\n",
    "\\dot{\\tilde{s}} = - [\\kappa_{T}/2 + i\\Delta + i\\chi /2  (2|s|^2 + |\\tilde{s}|^2)]\\tilde{s} + i\\chi s^2\\tilde{s}^*/2- \\sqrt{\\kappa} \\tilde{u}\n",
    "$$ \n",
    "\n",
    "    - input-output relationship:\n",
    "$$v=u+\\sqrt{\\kappa}s$$\n",
    "$$\\tilde{v}=\\tilde{u}+\\sqrt{\\kappa}\\tilde{s}$$\n",
    "\n",
    "- Closed Loop Model:\n",
    "\n",
    "$\\tilde{u}=r(\\tilde{u}+\\sqrt{\\kappa}\\tilde{s})+ i\\sqrt{1-|r|^2} p$\n",
    "\n",
    "$\\tilde{u}=\\frac{r\\sqrt{\\kappa}\\tilde{s}+ i\\sqrt{1-|r|^2} p}{1-r}$\n",
    "\n",
    "$\\dot{\\tilde{s}} = - [\\kappa_{T}'/2 + i\\Delta' + i\\chi /2  (2|s|^2 + |\\tilde{s}|^2)]\\tilde{s} + i\\chi s^2\\tilde{s}^*/2- \\sqrt{\\kappa'} e^{i\\Phi}p$\n",
    "\n",
    "where\n",
    "\n",
    "$\\kappa_{T}' = \\kappa' + \\kappa_{L} = \\kappa Re \\frac{1+r}{1-r} + \\kappa_{L}$\n",
    "\n",
    "$\\Delta' = \\Delta + \\kappa Im \\frac{r}{1-r}$\n",
    "\n",
    "- Steady State Analysis:\n",
    "\n",
    "$u = 0$, bias imput $p$ constant, fixpoint: $s = 0$ and $\\tilde{s}=\\tilde{s}_0$, where $\\tilde{s}_0$ satisfies\n",
    "$$0 = - [\\kappa_{T}'/2 + i\\Delta' + i\\chi |\\tilde{s}_0|^2/2]\\tilde{s}_0 - \\sqrt{\\kappa'} e^{i\\Phi}p$$\n",
    "\n",
    "If $|\\Delta| > \\sqrt{3}\\kappa_T/2$ and $|\\Delta'| < \\sqrt{3}\\kappa_T'/2$, there is bistability in $s$ mode but not the $\\tilde{s}$, which couples to the bias input $p$. (For example, $|\\Delta| = \\kappa_T$)"
   ]
  },
  {
   "attachments": {},
   "cell_type": "markdown",
   "id": "f4699b8c-027c-4c34-bb36-f84d1832a2a9",
   "metadata": {},
   "source": [
    "- Bifurcation Analysis\n",
    "    - $\\tilde{s}$ constant and independent of $s$. With $u=0$, $\\tilde{s} = |\\tilde{s}| \\in R_{>0}$\n",
    "    - $s=\\xi exp(i\\psi)$ with $\\xi,\\psi \\in R$ satisfies\n",
    "      $$ \\dot{\\xi} = - \\left[\\frac{\\kappa_T-\\chi\\tilde{s}^2sin(2\\psi)}{2}\\right]\\xi$$\n",
    "      $$\\dot{\\psi} = - \\chi\\tilde{s}^2 \\left[1+\\frac{\\Delta}{\\chi\\tilde{s}^2} + \\frac{\\xi^2}{2\\tilde{s}^2} - \\frac{1}{2}cos(2\\psi)\\right]$$\n",
    "\n",
    "      -Get steady phase $\\psi_ss(\\xi,p)$ (relaxes fast) and reinsert it into $\\dot{\\xi}$ (relaxes slowly).\n",
    "      ![title](pics/s.png)\n",
    "      -condition that pitchfor bifurcation exists:\n",
    "      $f^{(1)}(0) = 0 $ there is one solution for $\\dot{\\xi} = 0$, if $f^{(1)}(0) > 0 $ there are two.\n",
    "      Taylor expansion of $\\dot{\\xi}$\n",
    "![title](pics/taylor.png)\n",
    "$\\dot{\\xi}= f^{(1)}(0)x + f^{(3)}(0)x^3 + f^{(5)}(0)x^5$\n",
    "      $$ \\kappa_T = |\\chi|\\tilde{s}^2 \\sqrt {1- \\left[ 2 \\frac{\\Delta + \\chi\\tilde{s}^2}{\\chi\\tilde{s}^2} \\right]^2}$$\n",
    "     <=> $$\\tilde{s}^2 = - \\frac{4\\Delta}{3\\chi} \\pm \\sqrt {\\frac{4\\Delta^2}{9|\\chi|^2} - \\frac{\\kappa_T^2}{3|\\chi|^2} }$$ ($f^{(1)}(0) = 0 $ )\n",
    "\n",
    " $f^{(1)}(0) > 0 $ : $\\tilde{s}_{square,minus} < \\tilde{s} < \\tilde{s}_{square,plus}$\n",
    "\n",
    "\n",
    "\n",
    "To satisfy the condition:\n",
    "\n",
    "$\\dot{\\tilde{s}}= 0 = - [\\kappa_{T}'/2 + i\\Delta' + i\\chi |\\tilde{s}|^2/2]\\tilde{s} - \\sqrt{\\kappa'} e^{i\\Phi}p $\n",
    "\n",
    "we get:\n",
    "\n",
    "$ p = \\frac{- [\\kappa_{T}'/2 + i\\Delta' + i\\chi \\tilde{s}^2/2]\\tilde{s}}{\\sqrt{\\kappa'} e^{i\\Phi}}$\n",
    "\n",
    "$ p^2 (\\tilde{s}) = \\frac{[\\kappa_{T}'^2/4 + (\\Delta' + \\chi \\tilde{s}^2/2)^2]\\tilde{s}^2}{\\kappa'}$ ($\\tilde{s}$ real)\n",
    "\n",
    "$ p^2 (\\tilde{s}) = \\frac{1/4 \\chi^2 \\tilde{s}^6 + \\Delta'\\chi \\tilde{s}^4 + (1/4\\kappa_T'^2+\\Delta'^2)\\tilde{s}^2}{\\kappa'}$\n",
    "\n",
    "we get $p_{th}^2$ with $\\tilde{s}^2 = - \\frac{4\\Delta}{3\\chi} - \\sqrt{\\frac{4\\Delta^2}{9|\\chi|^2} - \\frac{\\kappa_T^2}{3|\\chi|^2} }$ ( lower power bifurcation ) \n"
   ]
  },
  {
   "cell_type": "markdown",
   "id": "98ff886c-899b-47ed-9851-5bf4372358f4",
   "metadata": {},
   "source": [
    "$|\\Delta| = \\kappa_T , r = 0.2 - 0.25i$\n",
    "\n",
    "with $r = 0.2 - 0.25i, e^{i\\Phi}=0.298+0.954i$\n",
    "\n",
    "$\\Delta = -225.17 \\chi, \\kappa=150|\\chi|, \\kappa_L = 50|\\chi|,\\kappa_T = 200|\\chi|, p_0 = 153.63\\sqrt{|\\chi|}$\n",
    "\n",
    "$\\kappa_{T}' = \\kappa' + \\kappa_{L} = \\kappa Re \\frac{1+r}{1-r} + \\kappa_{L} = 241.63 |\\chi|$\n",
    "\n",
    "$\\Delta' = \\Delta + \\kappa Im \\frac{r}{1-r} = -278.55\\chi$\n"
   ]
  },
  {
   "cell_type": "markdown",
   "id": "dbabe20d-03aa-442e-b0f9-f1291f26f323",
   "metadata": {},
   "source": [
    "from fig 11 we see that until around 0.938p0  there is stable fixpoints $\\psi = 0$, pth = 0.938po\n",
    "from calculation pth = 141.66 = 0.922po ??"
   ]
  },
  {
   "cell_type": "code",
   "execution_count": 216,
   "id": "15af42fd-15f9-4d69-9fc5-e1ee23a78d31",
   "metadata": {},
   "outputs": [
    {
     "name": "stdout",
     "output_type": "stream",
     "text": [
      "K is 150, K_t is 200, K_feedback is 191.6370106761566, K_t_feedback is 241.6370106761566, Delta is -225.17, Delta_feedback is -278.5507829181495, s_tilde_square condition for pitchfork is 204.30649406928694.\n"
     ]
    },
    {
     "data": {
      "text/plain": [
       "(150,\n",
       " 200,\n",
       " 191.6370106761566,\n",
       " 241.6370106761566,\n",
       " -225.17,\n",
       " -278.5507829181495,\n",
       " 204.30649406928694)"
      ]
     },
     "execution_count": 216,
     "metadata": {},
     "output_type": "execute_result"
    }
   ],
   "source": [
    "import math\n",
    "# k, k_l, delta are coefficient\n",
    "# r = re_r + i im_r\n",
    "def test (k, k_l, delta, re_r, im_r, chi):\n",
    "    r=complex(re_r,im_r)\n",
    "    K = k * abs(chi)\n",
    "    K_t=(k+k_l)*abs(chi)\n",
    "    K_feedback=((1+r)/(1-r)).real*k*abs(chi)\n",
    "    K_t_feedback= (((1+r)/(1-r)).real*k+k_l)*abs(chi)\n",
    "    Delta=delta*chi\n",
    "    Delta_feedback=Delta+ (r/(1-r)).imag *k*abs(chi)\n",
    "    s_tilde_square= -4*Delta/(3*chi) - math.sqrt(4*Delta**2/(9*abs(chi)**2)-K_t**2/(3*abs(chi)**2))\n",
    "    print(f'K is {K}, K_t is {K_t}, K_feedback is {K_feedback}, K_t_feedback is {K_t_feedback}, Delta is {Delta}, Delta_feedback is {Delta_feedback}, s_tilde_square condition for pitchfork is {s_tilde_square}.')\n",
    "    return K, K_t,K_feedback, K_t_feedback,Delta,Delta_feedback,s_tilde_square\n",
    "    \n",
    "test (150,50,-225.17,0.2,-0.25,1)"
   ]
  },
  {
   "cell_type": "markdown",
   "id": "94001acb-0b89-4efc-b047-0fd346eaab75",
   "metadata": {},
   "source": [
    "**plot $p (\\tilde{s})$ versus $\\tilde{s}$**\n",
    "\n",
    "$ p^2 (\\tilde{s}) = \\frac{[\\kappa_{T}'^2/4 + (\\Delta' + \\chi \\tilde{s}^2/2)^2]\\tilde{s}^2}{\\kappa'}$ ($\\tilde{s}$ real and positive)\n",
    "\n",
    "$ p^2 (\\tilde{s}) = \\frac{1/4 \\chi^2 \\tilde{s}^6 + \\Delta'\\chi \\tilde{s}^4 + (1/4\\kappa_T'^2+\\Delta'^2)\\tilde{s}^2}{\\kappa'}$\n",
    "\n",
    "we get $p_{th}^2$ with $\\tilde{s}^2 = - \\frac{4\\Delta}{3\\chi} - \\sqrt{\\frac{4\\Delta^2}{9|\\chi|^2} - \\frac{\\kappa_T^2}{3|\\chi|^2} }$ ( lower power bifurcation ) \n"
   ]
  },
  {
   "cell_type": "code",
   "execution_count": 710,
   "id": "2bd5a80e-2477-4555-894f-ecf4fd48b960",
   "metadata": {},
   "outputs": [],
   "source": [
    "import numpy as np\n",
    "import matplotlib.pyplot as plt\n",
    "def pump_s_tilde (k, k_l, delta, re_r, im_r, chi):\n",
    "    r=complex(re_r,im_r)\n",
    "    K = k * abs(chi)\n",
    "    K_feedback=((1+r)/(1-r)).real*k*abs(chi)\n",
    "    K_t=(k+k_l)*abs(chi)\n",
    "    K_t_feedback= (((1+r)/(1-r)).real*k+k_l)*abs(chi)\n",
    "    Delta=delta*chi\n",
    "    Delta_feedback=Delta+ (r/(1-r)).imag *k*abs(chi)\n",
    "    # s_tilde_square= -4*Delta/(3*chi) - math.sqrt(4*Delta**2/(9*abs(chi)**2)-K_t**2/(3*abs(chi)**2))\n",
    "    print(f'K is {K}, K_t is {K_t}, K_feedback is {K_feedback}, K_t_feedback is {K_t_feedback}, Delta is {Delta}, Delta_feedback is {Delta_feedback}.')\n",
    "    s_tilde_square=np.linspace(0, 500, 100, endpoint = True)\n",
    "    \n",
    "    p=[]\n",
    "    s_tilde=[]\n",
    "    \n",
    "    for m in s_tilde_square:\n",
    "        if (m <= 0) : \n",
    "            m=0.5 \n",
    "        p_square_temp = ((chi**2*m**3)/4+Delta_feedback*chi*m**2+((K_t_feedback**2)/4+Delta_feedback**2)*m)/K_feedback\n",
    "        s_tilde.append(math.sqrt(m))\n",
    "        p.append(math.sqrt(p_square_temp))\n",
    "        \n",
    "    plt.plot(p, s_tilde, '-go', label=r'$\\tilde{s}$ versus pump amplitude p')\n",
    "    axes = plt.gca()\n",
    "\n",
    "    # criticle s_tilde_square for the existing of pitchfork bifurcation\n",
    "    s_tilde_square_th= -4*Delta/(3*chi) - math.sqrt(4*Delta**2/(9*abs(chi)**2)-K_t**2/(3*abs(chi)**2))\n",
    "    p_square_th = ((chi**2*s_tilde_square_th**3)/4+Delta_feedback*chi*s_tilde_square_th**2+((K_t_feedback**2)/4+Delta_feedback**2)*s_tilde_square_th)/K_feedback\n",
    "    p_th=math.sqrt(p_square_th)\n",
    "    plt.plot(p_th,math.sqrt(s_tilde_square_th),'-r*',label=r'criticle point for pitchfork')\n",
    "    print(f'critical s_tilde is {math.sqrt(s_tilde_square_th)}, pump threshold is {p_th}.')\n",
    "    plt.xlabel('p')\n",
    "    plt.ylabel(r'$\\tilde{s}$')\n",
    "    plt.title('Polynomial Curve')\n",
    "    plt.legend(loc='upper left')\n",
    "\n",
    "    plt.show()\n",
    "    "
   ]
  },
  {
   "cell_type": "code",
   "execution_count": 712,
   "id": "38360c71-c921-4777-af1c-4ba42e669253",
   "metadata": {},
   "outputs": [
    {
     "name": "stdout",
     "output_type": "stream",
     "text": [
      "K is 150, K_t is 200, K_feedback is 191.6370106761566, K_t_feedback is 241.6370106761566, Delta is 225.17, Delta_feedback is 171.78921708185052.\n",
      "critical s_tilde is 14.29358226860177, pump threshold is 143.98579683950535.\n"
     ]
    },
    {
     "data": {
      "image/png": "[encoded data removed]",
      "text/plain": [
       "<Figure size 640x480 with 1 Axes>"
      ]
     },
     "metadata": {},
     "output_type": "display_data"
    }
   ],
   "source": [
    "pump_s_tilde (150,50,-225.17,0.2,-0.25,-1)"
   ]
  },
  {
   "cell_type": "markdown",
   "id": "fa2ab035-0427-4e33-bd8e-bb7c93ce256d",
   "metadata": {},
   "source": [
    "**plot $\\dot{\\xi}$ versus $\\xi$**\n",
    "\n",
    "$\\dot{\\xi}= f^{(1)}(0)\\xi + f^{(3)}(0)\\xi^3 + f^{(5)}(0)\\xi^5$"
   ]
  },
  {
   "cell_type": "code",
   "execution_count": 715,
   "id": "8dc63f58-ee2e-476f-b318-19b1a68b49b7",
   "metadata": {},
   "outputs": [],
   "source": [
    "# relationship between diff_xi and xi when s_tilde_square is fixed \n",
    "import numpy as np\n",
    "import matplotlib.pyplot as plt\n",
    "def s_differential_p (k, k_l, delta, re_r, im_r, chi):\n",
    "    r=complex(re_r,im_r)\n",
    "    K = k * abs(chi)\n",
    "    K_feedback=((1+r)/(1-r)).real*k*abs(chi)\n",
    "    K_t=(k+k_l)*abs(chi)\n",
    "    K_t_feedback= (((1+r)/(1-r)).real*k+k_l)*abs(chi)\n",
    "    Delta=delta*chi\n",
    "    Delta_feedback=Delta+ (r/(1-r)).imag *k*abs(chi)\n",
    "    s_tilde_square_plus= -4*Delta/(3*chi) + math.sqrt(4*Delta**2/(9*abs(chi)**2)-K_t**2/(3*abs(chi)**2))\n",
    "    s_tilde_square_minus= -4*Delta/(3*chi) - math.sqrt(4*Delta**2/(9*abs(chi)**2)-K_t**2/(3*abs(chi)**2))\n",
    "    print (f's_tilde_max is {s_tilde_square_plus}, s_tilde_min is {s_tilde_square_minus}.')\n",
    "    p_square_plus = ((chi**2*s_tilde_square_plus**3)/4+Delta_feedback*chi*s_tilde_square_plus**2+((K_t_feedback**2)/4+Delta_feedback**2)*s_tilde_square_plus)/K_feedback\n",
    "    p_square_minus = ((chi**2*s_tilde_square_minus**3)/4+Delta_feedback*chi*s_tilde_square_minus**2+((K_t_feedback**2)/4+Delta_feedback**2)*s_tilde_square_minus)/K_feedback\n",
    "    print(f'High power is {p_square_plus}, low power is {p_square_minus}.')\n",
    "    print(f'K is {K}, K_t is {K_t}, K_feedback is {K_feedback}, K_t_feedback is {K_t_feedback}, Delta is {Delta}, Delta_feedback is {Delta_feedback}.')\n",
    "    if (s_tilde_square_minus > Delta/abs(chi)):\n",
    "        print ('It is a supercritical bifurcation.')\n",
    "    else:\n",
    "        print ('It is a subcritical bifurcation.')\n",
    "    \n",
    "    xi = np.linspace(-5, 5, 11, endpoint = True)\n",
    "    xi_diff_plus = []\n",
    "    xi_diff_minus = []\n",
    "    for i in xi: \n",
    "        xi_diff_plus.append(-K_t/2.0*( 1.0 + (chi*s_tilde_square_plus/K_t)*math.sqrt(1.0-(2.0+(2.0*Delta)/(chi*s_tilde_square_plus)+i**2/s_tilde_square_plus)**2))*i)\n",
    "        xi_diff_minus.append(-K_t/2.0*( 1.0 + (chi*s_tilde_square_minus/K_t)*math.sqrt(1.0-(2.0+(2.0*Delta)/(chi*s_tilde_square_minus)+i**2/s_tilde_square_minus)**2))*i)\n",
    "    plt.plot(xi_diff_minus, xi, '-go', label=r'$\\xi_{diff,minus}$ versus $\\xi$')\n",
    "    plt.plot(xi_diff_plus, xi, '-ro', label=r'$\\xi_{diff,plus}$ versus $\\xi$')\n",
    "    axes = plt.gca()\n",
    "\n",
    "    plt.xlabel(r'$\\xi$')\n",
    "    plt.ylabel(r'$\\xi_{diff}$')\n",
    "    plt.legend(loc='upper left')\n",
    "\n",
    "    plt.show()"
   ]
  },
  {
   "cell_type": "code",
   "execution_count": 577,
   "id": "ef0dc039-8bea-4e5e-a979-94e41835922e",
   "metadata": {},
   "outputs": [
    {
     "name": "stdout",
     "output_type": "stream",
     "text": [
      "s_tilde_max is 396.1468392640463, s_tilde_min is 204.30649406928694.\n",
      "High power is 31602.878719307675, low power is 20731.909691507313.\n",
      "K is 150, K_t is 200, K_feedback is 191.6370106761566, K_t_feedback is 241.6370106761566, Delta is 225.17, Delta_feedback is 171.78921708185052.\n",
      "It is a subcritical bifurcation.\n"
     ]
    },
    {
     "data": {
      "image/png": "[encoded data removed]",
      "text/plain": [
       "<Figure size 640x480 with 1 Axes>"
      ]
     },
     "metadata": {},
     "output_type": "display_data"
    }
   ],
   "source": [
    "# condition for multi-stability: |delta| > sqrt(3)k_T /2, delta and chi different sign\n",
    "xi_differential_xi (150,50,-225.17,0.2,-0.25,-1)"
   ]
  },
  {
   "cell_type": "markdown",
   "id": "f5bc1333-91c9-4f1e-8c95-2ea866df57a2",
   "metadata": {},
   "source": [
    "**Modelling of Fig.11 $\\dot{s}$** ： \n",
    "\n",
    "pitchfork condition: $|\\Delta| > \\Delta_{th} = \\sqrt{3}\\kappa_T /2$ and $Delta / \\chi < 0$\n",
    "\n",
    "Subcritical with higher order, which means:\n",
    "\n",
    "$\\tilde{s}(p)^2 \\le \\frac{\\Delta}{|\\chi|}$ (The third order Taylor coefficient is positive. ) and the fifth order Taylor coefficient is negative (pay attention to the sign of $\\chi$).\n",
    "\n",
    "\n",
    "$\\xi_{ss} = \\pm \\sqrt{\\frac{5!f^{(3)}(0)}{3!|f^{(5)}(0)|}} = \\pm 2\\tilde{s}\\sqrt{\\left[-1+\\frac{|\\Delta|}{|\\chi|\\tilde{s}(p)^2}\\right]\\left[1-2 \\left(1+\\frac{\\Delta}{\\chi\\tilde{s}(p)^2}\\right)^2\\right]}$"
   ]
  },
  {
   "cell_type": "code",
   "execution_count": null,
   "id": "3471285e-785a-4d8e-b0ea-4339e468c0f5",
   "metadata": {},
   "outputs": [],
   "source": []
  },
  {
   "cell_type": "code",
   "execution_count": null,
   "id": "cf0800d3-3b54-4a1d-a9ff-040bbd44ebee",
   "metadata": {},
   "outputs": [],
   "source": []
  },
  {
   "cell_type": "code",
   "execution_count": 1864,
   "id": "3dbf5c9d-8f79-451d-b536-a0729e460ac5",
   "metadata": {},
   "outputs": [],
   "source": [
    "#### import numpy as np\n",
    "import matplotlib.pyplot as plt\n",
    "def xi_p (k, k_l, delta, re_r, im_r, chi):\n",
    "    r=complex(re_r,im_r)\n",
    "    K = k * abs(chi)\n",
    "    K_feedback=((1+r)/(1-r)).real*k*abs(chi)\n",
    "    K_t=(k+k_l)*abs(chi)\n",
    "    K_t_feedback= (((1+r)/(1-r)).real*k+k_l)*abs(chi)\n",
    "    Delta=delta*chi\n",
    "    Delta_feedback=Delta+ (r/(1-r)).imag *k*abs(chi)\n",
    "    s_tilde_square_minus= -4*Delta/(3*chi) - math.sqrt(4*(Delta**2)/(9*(abs(chi)**2))-(K_t**2)/(3*(abs(chi)**2)))\n",
    "    s_tilde_square_plus= -4*Delta/(3*chi) + math.sqrt(4*Delta**2/(9*abs(chi)**2)-K_t**2/(3*abs(chi)**2))\n",
    "    print (f's_tilde_square_minus is {s_tilde_square_minus},s_tilde_square_plus is {s_tilde_square_plus}.')\n",
    "    print (f's_tilde_square valid range for subcritical with higher order solutions: betwee {-2*Delta/(3*chi)} and {Delta/(abs(chi))}') # (error in function (60)leads to different results)\n",
    "    \n",
    "    # range of s_tilde to plot: the third order Taylor coefficient is non-negative\n",
    "    # s_tilde_square <= Delta / |chi|\n",
    "    # the inside of square root of third order Taylor coefficient must be positive, \n",
    "    # - (2/3)Delta/chi <s_tilde_square< -2*Delta/chi\n",
    "    # valid range: s_tilde_square = np.linspace(-2*Delta/(3*chi), Delta/(abs(chi)), 50) for subcritical \n",
    "    \n",
    "    ## with s_tilde_square_minus and s_tilde_square_plus, f'(0)=0, any value between, f'(0)>0 \n",
    "    #f1_minus= -K_t/2 * (1+ ((chi*(s_tilde_square_minus-10))/K_t)*math.sqrt(1.0-4.0*((1.0+Delta/(chi*(s_tilde_square_minus-10)))**2)))\n",
    "    #f1_plus=-K_t/2 * (1+ ((chi*(s_tilde_square_plus+10))/K_t)*math.sqrt(1.0-4.0*((1.0+Delta/(chi*(s_tilde_square_plus+10)))**2))) # (error in function (60)leads to different results)\n",
    "    \n",
    "    s_tilde_square_min=  -2*Delta/(3*chi)+1  ##(required by the square root, plus 1 to avoid near zero division)\n",
    "    #s_tilde_square_max = abs(delta)*2-50  ##required by the square root\n",
    "    s_tilde_square_max = abs(delta) # the third order Taylor coefficient is non-negative\n",
    "    s_tilde_square = np.linspace(s_tilde_square_min, 396, 100) # \n",
    "    p = []\n",
    "    pA=[]\n",
    "    pB=[]\n",
    "    xi_ss_plus = []\n",
    "    xi_ss_minus = []\n",
    "    solA=[]\n",
    "    solB_plus=[]\n",
    "    solB_minus=[]\n",
    "    solA_plus=[]\n",
    "    solA_minus=[]\n",
    "    psi_ss = []\n",
    "    s_tilde_square_array=[]\n",
    "    p0=153.63*math.sqrt(abs(chi))\n",
    "    for i in s_tilde_square: \n",
    "        s_tilde_square_array.append(i)\n",
    "        #p_square = (((chi**2)*(i**3))/4+Delta_feedback*chi*(i**2)+((K_t_feedback**2)/4+Delta_feedback**2)*i)/K_feedback\n",
    "        p_square = ((K_t_feedback**2/4 + (Delta_feedback+0.5*chi*i)**2)*i)/K_feedback\n",
    "        #p.append(math.sqrt(p_square)/p0)\n",
    "        #temp = math.sqrt((-1.0 + ((abs(Delta)/abs(chi))/i))*(1.0-2.0*((1.0+(Delta/chi)/i)**2))) #variant 1\n",
    "        # temp = math.sqrt((abs(delta)/i - 1)* (1-4*(1+delta/i)**2)) #variant 2\n",
    "        ### the formel given on pdf is not correct for ploting Fig.11 \n",
    "        #xi_ss_plus.append(2.0*math.sqrt(i)*temp)\n",
    "        \n",
    "        #xi_ss_minus.append (-2.0*math.sqrt(i)*math.sqrt((-1.0 + (abs(Delta)/(abs(chi)*i)))*(1.0-4.0*((1.0+(Delta/chi)/i)**2))))\n",
    "        ### solve xi_ss_plus and minus with the taylor expansion axi^+bxi^3+cxi^5 =!0 \n",
    "        a =  -K_t/2.0 * (1+ ((chi*i)/K_t)*math.sqrt(1.0-4.0*((1.0+Delta/(chi*i))**2)))\n",
    "        b = 1.0/i*((Delta+chi*i)/math.sqrt(1.0-4.0*((1.0+Delta/(chi*i))**2)))\n",
    "        #print(b)\n",
    "        c = 1.0/(i**2*4) * (chi*i) /math.sqrt((1.0-4.0*((1.0+Delta/(chi*i))**2))**3)\n",
    "        #print(c)\n",
    "        if (b**2 - 4*a*c) >=0 :\n",
    "            '''b>0, s_tilda_square < Delta/(abs(chi)\n",
    "            if (-b+math.sqrt(b**2 - 4*a*c))<=0:\n",
    "                # this part ignored\n",
    "                solA.append( math.sqrt( (-b+math.sqrt(b**2 - 4*a*c))/(2*c)))\n",
    "                solA.append( -math.sqrt( (-b+math.sqrt(b**2 - 4*a*c))/(2*c)))\n",
    "                pA.append(math.sqrt(p_square)/p0)\n",
    "                pA.append(math.sqrt(p_square)/p0)\n",
    "            ## main solution part\n",
    "            print((-b-math.sqrt(b**2 - 4*a*c))/(2*c))\n",
    "            solB_plus.append (math.sqrt((-b-math.sqrt(b**2 - 4*a*c))/(2*c) ) )\n",
    "            solB_minus.append (-math.sqrt((-b-math.sqrt(b**2 - 4*a*c))/(2*c)) ) \n",
    "            pB.append(math.sqrt(p_square)/p0) '''\n",
    "            ## non-statle\n",
    "            #if ((-b+math.sqrt(b**2 - 4*a*c))/(2*c))>=0:\n",
    "            #    solA_plus.append( math.sqrt( (-b+math.sqrt(b**2 - 4*a*c))/(2*c)))\n",
    "            #    solA_minus.append( -math.sqrt( (-b+math.sqrt(b**2 - 4*a*c))/(2*c)))\n",
    "            #    pA.append(math.sqrt(p_square)/p0)\n",
    "            ## stable\n",
    "            root=(-b-math.sqrt(b**2 - 4*a*c))/(2*c)\n",
    "            if root>=0:\n",
    "                solB_plus.append (math.sqrt(root ))\n",
    "                solB_minus.append (-math.sqrt(root)) \n",
    "                p_square = ((K_t_feedback**2/4 + (Delta_feedback+0.5*chi*i)**2)*i)/K_feedback\n",
    "                pB.append(math.sqrt(p_square)/p0)\n",
    "                psi_ss.append (-0.5*math.acos(2+(2*Delta)/(chi*i)+(root)/i))\n",
    "        ### the formel given on pdf is not correct for ploting Fig.11, the direction is somehow the other way around\n",
    "        ### only where f1=a=0 the result is the same and \n",
    "        ### the range of s_tilde_square must be below |delta|. \n",
    "        #xi_ss_plus.append(math.log10(math.sqrt(abs(b)/abs(c))))\n",
    "        xi_ss_plus.append(math.sqrt(abs(b)/abs(c)))\n",
    "        xi_ss_minus.append (-math.sqrt(abs(b)/abs(c)))\n",
    "        p.append(math.sqrt(p_square)/p0)\n",
    "    #print(f'solA: {solA}')    \n",
    "    #print(f'solB: {solB}')\n",
    "    p_square_th = (((chi**2)*(s_tilde_square_minus**3))/4+Delta_feedback*chi*(s_tilde_square_minus**2)+((K_t_feedback**2)/4+Delta_feedback**2)*s_tilde_square_minus)/K_feedback\n",
    "    p_th = math.sqrt(p_square_th)/p0\n",
    "    ## according to pdf under formular (47), xi is 0 until s_tilde_square = K_T/|chi|\n",
    "    #s_tilde_square_zero_th = k+k_l\n",
    "    #p_square_zero_th = (((chi**2)*(s_tilde_square_zero_th**3))/4+Delta_feedback*chi*(s_tilde_square_zero_th**2)+((K_t_feedback**2)/4+Delta_feedback**2)*s_tilde_square_zero_th)/K_feedback\n",
    "    #p_zero_th = math.sqrt(p_square_zero_th)/p0\n",
    "\n",
    "    \n",
    "    \n",
    "    # plots\n",
    "    \n",
    "    plt.xlabel ('p')\n",
    "    plt.ylim((-15, 15))\n",
    "    #plt.xlim((0.9, 1.04))\n",
    "    #plt.xticks(np.arange(0.9, 1, step=0.02))\n",
    "    plt.ylabel(r'$\\xi$')\n",
    "    y=[0,0]\n",
    "    x1=[0.9,p_th]\n",
    "    x2=[0.9,1]\n",
    "    \n",
    "    plt.plot(p, xi_ss_plus,  '-bo', label=r'$\\xi_{plus}$ versus $p$')\n",
    "    plt.plot(p, xi_ss_minus,  '-ro', label=r'$\\xi_{minus}$ versus $p$')\n",
    "    \n",
    "    plt.axvline(x=p_th, color='y', linestyle='--')\n",
    "    #plt.axvline(x=p_zero_th, color='y', linestyle='-')\n",
    "    plt.plot(x1,y,color='y')\n",
    "    plt.plot(x2,y,color='y',linestyle='--')\n",
    "    plt.axvline(x=pB[0], color='g',linestyle='--')\n",
    "    #plt.plot(pA, solA_plus,  '-go', label=r'$\\xi_{minus}$ versus $p$') # unstable ignored\n",
    "    #plt.plot(pA, solA_minus,  '-go', label=r'$\\xi_{minus}$ versus $p$') # unstable ignored\n",
    "    plt.plot(pB, solB_plus,  '-bo', label=r'$\\xi_{minus}$ versus $p$')\n",
    "    plt.plot(pB, solB_minus,  '-ro', label=r'$\\xi_{minus}$ versus $p$')\n",
    "    \n",
    "    #plt.plot(pB, psi_ss,  color='purple', label=r'$\\psi_{ss}$ versus $p$')\n",
    "   \n",
    "\n",
    "    plt.show()"
   ]
  },
  {
   "cell_type": "code",
   "execution_count": 1866,
   "id": "28cef79d-fb32-4780-977f-13e506e551ce",
   "metadata": {},
   "outputs": [
    {
     "name": "stdout",
     "output_type": "stream",
     "text": [
      "s_tilde_square_minus is 204.30649406928694,s_tilde_square_plus is 396.1468392640463.\n",
      "s_tilde_square valid range for subcritical with higher order solutions: betwee 150.11333333333332 and 225.17\n"
     ]
    },
    {
     "data": {
      "image/png": "[encoded data removed]",
      "text/plain": [
       "<Figure size 640x480 with 1 Axes>"
      ]
     },
     "metadata": {},
     "output_type": "display_data"
    }
   ],
   "source": [
    "xi_p(150,50,-225.17,0.2,-0.25,-1) # chi controls the range of p, chi negative for subcriticle and higher order solutions"
   ]
  },
  {
   "cell_type": "markdown",
   "id": "07195484-3a8e-4356-b432-9384a5fc27f2",
   "metadata": {},
   "source": [
    "**plot Fig.4(b)**\n",
    "\n",
    "![title](pics/input.png)"
   ]
  },
  {
   "cell_type": "markdown",
   "id": "00c81971-575e-4eb3-a650-9cbba973ed03",
   "metadata": {},
   "source": [
    "$\\tilde{s} = \\frac{(1-r)\\tilde{u}-i\\sqrt{1-|r|^2}p}{r\\sqrt{\\kappa}}$"
   ]
  },
  {
   "cell_type": "code",
   "execution_count": null,
   "id": "7c4cc8a5-41ae-4c2d-89e6-ed244beb3e4e",
   "metadata": {},
   "outputs": [],
   "source": []
  }
 ],
 "metadata": {
  "kernelspec": {
   "display_name": "Python 3 (ipykernel)",
   "language": "python",
   "name": "python3"
  },
  "language_info": {
   "codemirror_mode": {
    "name": "ipython",
    "version": 3
   },
   "file_extension": ".py",
   "mimetype": "text/x-python",
   "name": "python",
   "nbconvert_exporter": "python",
   "pygments_lexer": "ipython3",
   "version": "3.11.9"
  }
 },
 "nbformat": 4,
 "nbformat_minor": 5
}
